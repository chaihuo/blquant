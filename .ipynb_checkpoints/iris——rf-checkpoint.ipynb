{
 "cells": [
  {
   "cell_type": "code",
   "execution_count": null,
   "metadata": {
    "collapsed": true
   },
   "outputs": [],
   "source": [
    "from sklearn.tree import DecisionTreeRegressor  \n",
    "from sklearn.ensemble import RandomForestRegressor  \n",
    "import numpy as np  \n",
    "   \n",
    "from sklearn.datasets import load_iris  \n",
    "iris=load_iris()  \n",
    "#print iris#iris的４个属性是：萼片宽度　萼片长度　花瓣宽度　花瓣长度　标签是花的种类：setosa versicolour virginica  \n",
    "print iris['target'].shape  \n",
    "rf=RandomForestRegressor()#这里使用了默认的参数设置  \n",
    "rf.fit(iris.data[:150],iris.target[:150])#进行模型的训练  \n",
    "#    \n",
    "#随机挑选两个预测不相同的样本  \n",
    "instance=iris.data[[100,109]]  \n",
    "print instance  \n",
    "print 'instance 0 prediction；',rf.predict(instance[0])  \n",
    "print 'instance 1 prediction；',rf.predict(instance[1])  \n",
    "print iris.target[100],iris.target[109]  "
   ]
  }
 ],
 "metadata": {
  "kernelspec": {
   "display_name": "Python 2",
   "language": "python",
   "name": "python2"
  },
  "language_info": {
   "codemirror_mode": {
    "name": "ipython",
    "version": 2
   },
   "file_extension": ".py",
   "mimetype": "text/x-python",
   "name": "python",
   "nbconvert_exporter": "python",
   "pygments_lexer": "ipython2",
   "version": "2.7.13"
  }
 },
 "nbformat": 4,
 "nbformat_minor": 2
}
